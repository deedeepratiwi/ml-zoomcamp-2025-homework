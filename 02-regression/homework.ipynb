{
 "cells": [
  {
   "cell_type": "markdown",
   "id": "a04d45e6",
   "metadata": {},
   "source": [
    "# Homework\n",
    "\n",
    "Note: sometimes your answer doesn't match one of the options exactly. That's fine. Select the option that's closest to your solution."
   ]
  },
  {
   "cell_type": "markdown",
   "id": "658b19b8",
   "metadata": {},
   "source": [
    "## Dataset\n",
    "\n",
    "For this homework, we'll use the Car Fuel Efficiency dataset. Download it from [here](https://raw.githubusercontent.com/alexeygrigorev/datasets/master/car_fuel_efficiency.csv).\n",
    "\n",
    "You can do it with wget:\n",
    "```python\n",
    "wget https://raw.githubusercontent.com/alexeygrigorev/datasets/master/car_fuel_efficiency.csv\n",
    "```"
   ]
  },
  {
   "cell_type": "markdown",
   "id": "cb2ec927",
   "metadata": {},
   "source": [
    "The goal of this homework is to create a regression model for predicting the car fuel efficiency (column `'fuel_efficiency_mpg'`)."
   ]
  },
  {
   "cell_type": "code",
   "execution_count": 1,
   "id": "6be4cfb0",
   "metadata": {},
   "outputs": [
    {
     "name": "stderr",
     "output_type": "stream",
     "text": [
      "--2025-10-07 20:23:09--  https://raw.githubusercontent.com/alexeygrigorev/datasets/master/car_fuel_efficiency.csv\n",
      "Resolving raw.githubusercontent.com (raw.githubusercontent.com)... 2606:50c0:8002::154, 2606:50c0:8003::154, 2606:50c0:8000::154, ...\n",
      "Connecting to raw.githubusercontent.com (raw.githubusercontent.com)|2606:50c0:8002::154|:443... connected.\n",
      "HTTP request sent, awaiting response... 200 OK\n",
      "Length: 874188 (854K) [text/plain]\n",
      "Saving to: 'car_fuel_efficiency.csv'\n",
      "\n",
      "     0K .......... .......... .......... .......... ..........  5% 1,40M 1s\n",
      "    50K .......... .......... .......... .......... .......... 11% 23,8M 0s\n",
      "   100K .......... .......... .......... .......... .......... 17% 16,2M 0s\n",
      "   150K .......... .......... .......... .......... .......... 23% 3,54M 0s\n",
      "   200K .......... .......... .......... .......... .......... 29% 9,59M 0s\n",
      "   250K .......... .......... .......... .......... .......... 35% 14,2M 0s\n",
      "   300K .......... .......... .......... .......... .......... 40% 5,70M 0s\n",
      "   350K .......... .......... .......... .......... .......... 46% 7,10M 0s\n",
      "   400K .......... .......... .......... .......... .......... 52% 8,51M 0s\n",
      "   450K .......... .......... .......... .......... .......... 58% 21,2M 0s\n",
      "   500K .......... .......... .......... .......... .......... 64% 6,14M 0s\n",
      "   550K .......... .......... .......... .......... .......... 70% 24,8M 0s\n",
      "   600K .......... .......... .......... .......... .......... 76% 1,20M 0s\n",
      "   650K .......... .......... .......... .......... .......... 81% 6,13M 0s\n",
      "   700K .......... .......... .......... .......... .......... 87%  105M 0s\n",
      "   750K .......... .......... .......... .......... .......... 93%  110M 0s\n",
      "   800K .......... .......... .......... .......... .......... 99% 78,2M 0s\n",
      "   850K ...                                                   100% 70,6G=0,1s\n",
      "\n",
      "2025-10-07 20:23:10 (5,71 MB/s) - 'car_fuel_efficiency.csv' saved [874188/874188]\n",
      "\n"
     ]
    }
   ],
   "source": [
    "!wget https://raw.githubusercontent.com/alexeygrigorev/datasets/master/car_fuel_efficiency.csv"
   ]
  },
  {
   "cell_type": "code",
   "execution_count": 2,
   "id": "7f3ea4c7",
   "metadata": {},
   "outputs": [],
   "source": [
    "import pandas as pd\n",
    "import numpy as np"
   ]
  },
  {
   "cell_type": "code",
   "execution_count": 3,
   "id": "50bd47e9",
   "metadata": {},
   "outputs": [],
   "source": [
    "df = pd.read_csv('car_fuel_efficiency.csv')"
   ]
  },
  {
   "cell_type": "code",
   "execution_count": 4,
   "id": "1089a0da",
   "metadata": {},
   "outputs": [
    {
     "data": {
      "text/html": [
       "<div>\n",
       "<style scoped>\n",
       "    .dataframe tbody tr th:only-of-type {\n",
       "        vertical-align: middle;\n",
       "    }\n",
       "\n",
       "    .dataframe tbody tr th {\n",
       "        vertical-align: top;\n",
       "    }\n",
       "\n",
       "    .dataframe thead th {\n",
       "        text-align: right;\n",
       "    }\n",
       "</style>\n",
       "<table border=\"1\" class=\"dataframe\">\n",
       "  <thead>\n",
       "    <tr style=\"text-align: right;\">\n",
       "      <th></th>\n",
       "      <th>engine_displacement</th>\n",
       "      <th>num_cylinders</th>\n",
       "      <th>horsepower</th>\n",
       "      <th>vehicle_weight</th>\n",
       "      <th>acceleration</th>\n",
       "      <th>model_year</th>\n",
       "      <th>origin</th>\n",
       "      <th>fuel_type</th>\n",
       "      <th>drivetrain</th>\n",
       "      <th>num_doors</th>\n",
       "      <th>fuel_efficiency_mpg</th>\n",
       "    </tr>\n",
       "  </thead>\n",
       "  <tbody>\n",
       "    <tr>\n",
       "      <th>0</th>\n",
       "      <td>170</td>\n",
       "      <td>3.0</td>\n",
       "      <td>159.0</td>\n",
       "      <td>3413.433759</td>\n",
       "      <td>17.7</td>\n",
       "      <td>2003</td>\n",
       "      <td>Europe</td>\n",
       "      <td>Gasoline</td>\n",
       "      <td>All-wheel drive</td>\n",
       "      <td>0.0</td>\n",
       "      <td>13.231729</td>\n",
       "    </tr>\n",
       "    <tr>\n",
       "      <th>1</th>\n",
       "      <td>130</td>\n",
       "      <td>5.0</td>\n",
       "      <td>97.0</td>\n",
       "      <td>3149.664934</td>\n",
       "      <td>17.8</td>\n",
       "      <td>2007</td>\n",
       "      <td>USA</td>\n",
       "      <td>Gasoline</td>\n",
       "      <td>Front-wheel drive</td>\n",
       "      <td>0.0</td>\n",
       "      <td>13.688217</td>\n",
       "    </tr>\n",
       "    <tr>\n",
       "      <th>2</th>\n",
       "      <td>170</td>\n",
       "      <td>NaN</td>\n",
       "      <td>78.0</td>\n",
       "      <td>3079.038997</td>\n",
       "      <td>15.1</td>\n",
       "      <td>2018</td>\n",
       "      <td>Europe</td>\n",
       "      <td>Gasoline</td>\n",
       "      <td>Front-wheel drive</td>\n",
       "      <td>0.0</td>\n",
       "      <td>14.246341</td>\n",
       "    </tr>\n",
       "    <tr>\n",
       "      <th>3</th>\n",
       "      <td>220</td>\n",
       "      <td>4.0</td>\n",
       "      <td>NaN</td>\n",
       "      <td>2542.392402</td>\n",
       "      <td>20.2</td>\n",
       "      <td>2009</td>\n",
       "      <td>USA</td>\n",
       "      <td>Diesel</td>\n",
       "      <td>All-wheel drive</td>\n",
       "      <td>2.0</td>\n",
       "      <td>16.912736</td>\n",
       "    </tr>\n",
       "    <tr>\n",
       "      <th>4</th>\n",
       "      <td>210</td>\n",
       "      <td>1.0</td>\n",
       "      <td>140.0</td>\n",
       "      <td>3460.870990</td>\n",
       "      <td>14.4</td>\n",
       "      <td>2009</td>\n",
       "      <td>Europe</td>\n",
       "      <td>Gasoline</td>\n",
       "      <td>All-wheel drive</td>\n",
       "      <td>2.0</td>\n",
       "      <td>12.488369</td>\n",
       "    </tr>\n",
       "  </tbody>\n",
       "</table>\n",
       "</div>"
      ],
      "text/plain": [
       "   engine_displacement  num_cylinders  horsepower  vehicle_weight  \\\n",
       "0                  170            3.0       159.0     3413.433759   \n",
       "1                  130            5.0        97.0     3149.664934   \n",
       "2                  170            NaN        78.0     3079.038997   \n",
       "3                  220            4.0         NaN     2542.392402   \n",
       "4                  210            1.0       140.0     3460.870990   \n",
       "\n",
       "   acceleration  model_year  origin fuel_type         drivetrain  num_doors  \\\n",
       "0          17.7        2003  Europe  Gasoline    All-wheel drive        0.0   \n",
       "1          17.8        2007     USA  Gasoline  Front-wheel drive        0.0   \n",
       "2          15.1        2018  Europe  Gasoline  Front-wheel drive        0.0   \n",
       "3          20.2        2009     USA    Diesel    All-wheel drive        2.0   \n",
       "4          14.4        2009  Europe  Gasoline    All-wheel drive        2.0   \n",
       "\n",
       "   fuel_efficiency_mpg  \n",
       "0            13.231729  \n",
       "1            13.688217  \n",
       "2            14.246341  \n",
       "3            16.912736  \n",
       "4            12.488369  "
      ]
     },
     "execution_count": 4,
     "metadata": {},
     "output_type": "execute_result"
    }
   ],
   "source": [
    "df.head()"
   ]
  },
  {
   "cell_type": "markdown",
   "id": "956099bc",
   "metadata": {},
   "source": [
    "## Preparing the dataset\n",
    "\n",
    "Use only the following columns:\n",
    "- `'engine_displacement'`,\n",
    "- `'horsepower'`,\n",
    "- `'vehicle_weight'`,\n",
    "- `'model_year'`,\n",
    "- `'fuel_efficiency_mpg'`"
   ]
  },
  {
   "cell_type": "code",
   "execution_count": 11,
   "id": "a884105b",
   "metadata": {},
   "outputs": [],
   "source": [
    "df = df[['engine_displacement',\n",
    "'horsepower',\n",
    "'vehicle_weight',\n",
    "'model_year',\n",
    "'fuel_efficiency_mpg']]"
   ]
  },
  {
   "cell_type": "code",
   "execution_count": 12,
   "id": "035459e1",
   "metadata": {},
   "outputs": [
    {
     "data": {
      "text/html": [
       "<div>\n",
       "<style scoped>\n",
       "    .dataframe tbody tr th:only-of-type {\n",
       "        vertical-align: middle;\n",
       "    }\n",
       "\n",
       "    .dataframe tbody tr th {\n",
       "        vertical-align: top;\n",
       "    }\n",
       "\n",
       "    .dataframe thead th {\n",
       "        text-align: right;\n",
       "    }\n",
       "</style>\n",
       "<table border=\"1\" class=\"dataframe\">\n",
       "  <thead>\n",
       "    <tr style=\"text-align: right;\">\n",
       "      <th></th>\n",
       "      <th>engine_displacement</th>\n",
       "      <th>horsepower</th>\n",
       "      <th>vehicle_weight</th>\n",
       "      <th>model_year</th>\n",
       "      <th>fuel_efficiency_mpg</th>\n",
       "    </tr>\n",
       "  </thead>\n",
       "  <tbody>\n",
       "    <tr>\n",
       "      <th>0</th>\n",
       "      <td>170</td>\n",
       "      <td>159.0</td>\n",
       "      <td>3413.433759</td>\n",
       "      <td>2003</td>\n",
       "      <td>13.231729</td>\n",
       "    </tr>\n",
       "    <tr>\n",
       "      <th>1</th>\n",
       "      <td>130</td>\n",
       "      <td>97.0</td>\n",
       "      <td>3149.664934</td>\n",
       "      <td>2007</td>\n",
       "      <td>13.688217</td>\n",
       "    </tr>\n",
       "    <tr>\n",
       "      <th>2</th>\n",
       "      <td>170</td>\n",
       "      <td>78.0</td>\n",
       "      <td>3079.038997</td>\n",
       "      <td>2018</td>\n",
       "      <td>14.246341</td>\n",
       "    </tr>\n",
       "    <tr>\n",
       "      <th>3</th>\n",
       "      <td>220</td>\n",
       "      <td>NaN</td>\n",
       "      <td>2542.392402</td>\n",
       "      <td>2009</td>\n",
       "      <td>16.912736</td>\n",
       "    </tr>\n",
       "    <tr>\n",
       "      <th>4</th>\n",
       "      <td>210</td>\n",
       "      <td>140.0</td>\n",
       "      <td>3460.870990</td>\n",
       "      <td>2009</td>\n",
       "      <td>12.488369</td>\n",
       "    </tr>\n",
       "  </tbody>\n",
       "</table>\n",
       "</div>"
      ],
      "text/plain": [
       "   engine_displacement  horsepower  vehicle_weight  model_year  \\\n",
       "0                  170       159.0     3413.433759        2003   \n",
       "1                  130        97.0     3149.664934        2007   \n",
       "2                  170        78.0     3079.038997        2018   \n",
       "3                  220         NaN     2542.392402        2009   \n",
       "4                  210       140.0     3460.870990        2009   \n",
       "\n",
       "   fuel_efficiency_mpg  \n",
       "0            13.231729  \n",
       "1            13.688217  \n",
       "2            14.246341  \n",
       "3            16.912736  \n",
       "4            12.488369  "
      ]
     },
     "execution_count": 12,
     "metadata": {},
     "output_type": "execute_result"
    }
   ],
   "source": [
    "df.head()"
   ]
  },
  {
   "cell_type": "code",
   "execution_count": 15,
   "id": "4a9f1d7a",
   "metadata": {},
   "outputs": [
    {
     "name": "stdout",
     "output_type": "stream",
     "text": [
      "<class 'pandas.core.frame.DataFrame'>\n",
      "RangeIndex: 9704 entries, 0 to 9703\n",
      "Data columns (total 5 columns):\n",
      " #   Column               Non-Null Count  Dtype  \n",
      "---  ------               --------------  -----  \n",
      " 0   engine_displacement  9704 non-null   int64  \n",
      " 1   horsepower           8996 non-null   float64\n",
      " 2   vehicle_weight       9704 non-null   float64\n",
      " 3   model_year           9704 non-null   int64  \n",
      " 4   fuel_efficiency_mpg  9704 non-null   float64\n",
      "dtypes: float64(3), int64(2)\n",
      "memory usage: 379.2 KB\n"
     ]
    }
   ],
   "source": [
    "df.info()"
   ]
  },
  {
   "cell_type": "code",
   "execution_count": 19,
   "id": "afa8b409",
   "metadata": {},
   "outputs": [
    {
     "data": {
      "text/plain": [
       "(9704, 5)"
      ]
     },
     "execution_count": 19,
     "metadata": {},
     "output_type": "execute_result"
    }
   ],
   "source": [
    "df.shape"
   ]
  },
  {
   "cell_type": "code",
   "execution_count": 22,
   "id": "2f054a40",
   "metadata": {},
   "outputs": [
    {
     "data": {
      "text/html": [
       "<div>\n",
       "<style scoped>\n",
       "    .dataframe tbody tr th:only-of-type {\n",
       "        vertical-align: middle;\n",
       "    }\n",
       "\n",
       "    .dataframe tbody tr th {\n",
       "        vertical-align: top;\n",
       "    }\n",
       "\n",
       "    .dataframe thead th {\n",
       "        text-align: right;\n",
       "    }\n",
       "</style>\n",
       "<table border=\"1\" class=\"dataframe\">\n",
       "  <thead>\n",
       "    <tr style=\"text-align: right;\">\n",
       "      <th></th>\n",
       "      <th>engine_displacement</th>\n",
       "      <th>horsepower</th>\n",
       "      <th>vehicle_weight</th>\n",
       "      <th>model_year</th>\n",
       "      <th>fuel_efficiency_mpg</th>\n",
       "    </tr>\n",
       "  </thead>\n",
       "  <tbody>\n",
       "    <tr>\n",
       "      <th>count</th>\n",
       "      <td>9704.000000</td>\n",
       "      <td>8996.000000</td>\n",
       "      <td>9704.000000</td>\n",
       "      <td>9704.000000</td>\n",
       "      <td>9704.000000</td>\n",
       "    </tr>\n",
       "    <tr>\n",
       "      <th>mean</th>\n",
       "      <td>199.708368</td>\n",
       "      <td>149.657292</td>\n",
       "      <td>3001.280993</td>\n",
       "      <td>2011.484027</td>\n",
       "      <td>14.985243</td>\n",
       "    </tr>\n",
       "    <tr>\n",
       "      <th>std</th>\n",
       "      <td>49.455319</td>\n",
       "      <td>29.879555</td>\n",
       "      <td>497.894860</td>\n",
       "      <td>6.659808</td>\n",
       "      <td>2.556468</td>\n",
       "    </tr>\n",
       "    <tr>\n",
       "      <th>min</th>\n",
       "      <td>10.000000</td>\n",
       "      <td>37.000000</td>\n",
       "      <td>952.681761</td>\n",
       "      <td>2000.000000</td>\n",
       "      <td>6.200971</td>\n",
       "    </tr>\n",
       "    <tr>\n",
       "      <th>25%</th>\n",
       "      <td>170.000000</td>\n",
       "      <td>130.000000</td>\n",
       "      <td>2666.248985</td>\n",
       "      <td>2006.000000</td>\n",
       "      <td>13.267459</td>\n",
       "    </tr>\n",
       "    <tr>\n",
       "      <th>50%</th>\n",
       "      <td>200.000000</td>\n",
       "      <td>149.000000</td>\n",
       "      <td>2993.226296</td>\n",
       "      <td>2012.000000</td>\n",
       "      <td>15.006037</td>\n",
       "    </tr>\n",
       "    <tr>\n",
       "      <th>75%</th>\n",
       "      <td>230.000000</td>\n",
       "      <td>170.000000</td>\n",
       "      <td>3334.957039</td>\n",
       "      <td>2017.000000</td>\n",
       "      <td>16.707965</td>\n",
       "    </tr>\n",
       "    <tr>\n",
       "      <th>max</th>\n",
       "      <td>380.000000</td>\n",
       "      <td>271.000000</td>\n",
       "      <td>4739.077089</td>\n",
       "      <td>2023.000000</td>\n",
       "      <td>25.967222</td>\n",
       "    </tr>\n",
       "  </tbody>\n",
       "</table>\n",
       "</div>"
      ],
      "text/plain": [
       "       engine_displacement   horsepower  vehicle_weight   model_year  \\\n",
       "count          9704.000000  8996.000000     9704.000000  9704.000000   \n",
       "mean            199.708368   149.657292     3001.280993  2011.484027   \n",
       "std              49.455319    29.879555      497.894860     6.659808   \n",
       "min              10.000000    37.000000      952.681761  2000.000000   \n",
       "25%             170.000000   130.000000     2666.248985  2006.000000   \n",
       "50%             200.000000   149.000000     2993.226296  2012.000000   \n",
       "75%             230.000000   170.000000     3334.957039  2017.000000   \n",
       "max             380.000000   271.000000     4739.077089  2023.000000   \n",
       "\n",
       "       fuel_efficiency_mpg  \n",
       "count          9704.000000  \n",
       "mean             14.985243  \n",
       "std               2.556468  \n",
       "min               6.200971  \n",
       "25%              13.267459  \n",
       "50%              15.006037  \n",
       "75%              16.707965  \n",
       "max              25.967222  "
      ]
     },
     "execution_count": 22,
     "metadata": {},
     "output_type": "execute_result"
    }
   ],
   "source": [
    "df.describe()"
   ]
  },
  {
   "cell_type": "markdown",
   "id": "b6d5cf22",
   "metadata": {},
   "source": [
    "## EDA\n",
    "- Look at the `fuel_efficiency_mpg` variable. Does it have a long tail?"
   ]
  },
  {
   "cell_type": "code",
   "execution_count": 16,
   "id": "9713b655",
   "metadata": {},
   "outputs": [],
   "source": [
    "import matplotlib.pyplot as plt\n",
    "import seaborn as sns"
   ]
  },
  {
   "cell_type": "code",
   "execution_count": 21,
   "id": "7cfec09a",
   "metadata": {},
   "outputs": [
    {
     "data": {
      "text/plain": [
       "<Axes: xlabel='fuel_efficiency_mpg', ylabel='Count'>"
      ]
     },
     "execution_count": 21,
     "metadata": {},
     "output_type": "execute_result"
    },
    {
     "data": {
      "image/png": "[encoded data removed]",
      "text/plain": [
       "<Figure size 640x480 with 1 Axes>"
      ]
     },
     "metadata": {},
     "output_type": "display_data"
    }
   ],
   "source": [
    "sns.histplot(data=df, x='fuel_efficiency_mpg')"
   ]
  },
  {
   "cell_type": "markdown",
   "id": "3ec06c67",
   "metadata": {},
   "source": [
    "### Question 1\n",
    "\n",
    "There's one column with missing values. What is it?\n",
    "- `'engine_displacement'`\n",
    "- `'horsepower'`\n",
    "- `'vehicle_weight'`\n",
    "- `'model_year'`\n",
    "\n",
    "**Answer : `'horsepower'`**"
   ]
  },
  {
   "cell_type": "code",
   "execution_count": 23,
   "id": "e648d43a",
   "metadata": {},
   "outputs": [
    {
     "data": {
      "text/plain": [
       "engine_displacement      0\n",
       "horsepower             708\n",
       "vehicle_weight           0\n",
       "model_year               0\n",
       "fuel_efficiency_mpg      0\n",
       "dtype: int64"
      ]
     },
     "execution_count": 23,
     "metadata": {},
     "output_type": "execute_result"
    }
   ],
   "source": [
    "df.isnull().sum()"
   ]
  },
  {
   "cell_type": "markdown",
   "id": "dc511637",
   "metadata": {},
   "source": [
    "### Question 2\n",
    "What's the median (50% percentile) for variable `'horsepower'`?\n",
    "- 49\n",
    "- 99\n",
    "- 149\n",
    "- 199\n",
    "\n",
    "**Answer: 149**"
   ]
  },
  {
   "cell_type": "code",
   "execution_count": 27,
   "id": "db33b870",
   "metadata": {},
   "outputs": [
    {
     "data": {
      "text/html": [
       "<div>\n",
       "<style scoped>\n",
       "    .dataframe tbody tr th:only-of-type {\n",
       "        vertical-align: middle;\n",
       "    }\n",
       "\n",
       "    .dataframe tbody tr th {\n",
       "        vertical-align: top;\n",
       "    }\n",
       "\n",
       "    .dataframe thead th {\n",
       "        text-align: right;\n",
       "    }\n",
       "</style>\n",
       "<table border=\"1\" class=\"dataframe\">\n",
       "  <thead>\n",
       "    <tr style=\"text-align: right;\">\n",
       "      <th></th>\n",
       "      <th>engine_displacement</th>\n",
       "      <th>horsepower</th>\n",
       "      <th>vehicle_weight</th>\n",
       "      <th>model_year</th>\n",
       "      <th>fuel_efficiency_mpg</th>\n",
       "    </tr>\n",
       "  </thead>\n",
       "  <tbody>\n",
       "    <tr>\n",
       "      <th>count</th>\n",
       "      <td>9704.000000</td>\n",
       "      <td>8996.000000</td>\n",
       "      <td>9704.000000</td>\n",
       "      <td>9704.000000</td>\n",
       "      <td>9704.000000</td>\n",
       "    </tr>\n",
       "    <tr>\n",
       "      <th>mean</th>\n",
       "      <td>199.708368</td>\n",
       "      <td>149.657292</td>\n",
       "      <td>3001.280993</td>\n",
       "      <td>2011.484027</td>\n",
       "      <td>14.985243</td>\n",
       "    </tr>\n",
       "    <tr>\n",
       "      <th>std</th>\n",
       "      <td>49.455319</td>\n",
       "      <td>29.879555</td>\n",
       "      <td>497.894860</td>\n",
       "      <td>6.659808</td>\n",
       "      <td>2.556468</td>\n",
       "    </tr>\n",
       "    <tr>\n",
       "      <th>min</th>\n",
       "      <td>10.000000</td>\n",
       "      <td>37.000000</td>\n",
       "      <td>952.681761</td>\n",
       "      <td>2000.000000</td>\n",
       "      <td>6.200971</td>\n",
       "    </tr>\n",
       "    <tr>\n",
       "      <th>25%</th>\n",
       "      <td>170.000000</td>\n",
       "      <td>130.000000</td>\n",
       "      <td>2666.248985</td>\n",
       "      <td>2006.000000</td>\n",
       "      <td>13.267459</td>\n",
       "    </tr>\n",
       "    <tr>\n",
       "      <th>50%</th>\n",
       "      <td>200.000000</td>\n",
       "      <td>149.000000</td>\n",
       "      <td>2993.226296</td>\n",
       "      <td>2012.000000</td>\n",
       "      <td>15.006037</td>\n",
       "    </tr>\n",
       "    <tr>\n",
       "      <th>75%</th>\n",
       "      <td>230.000000</td>\n",
       "      <td>170.000000</td>\n",
       "      <td>3334.957039</td>\n",
       "      <td>2017.000000</td>\n",
       "      <td>16.707965</td>\n",
       "    </tr>\n",
       "    <tr>\n",
       "      <th>max</th>\n",
       "      <td>380.000000</td>\n",
       "      <td>271.000000</td>\n",
       "      <td>4739.077089</td>\n",
       "      <td>2023.000000</td>\n",
       "      <td>25.967222</td>\n",
       "    </tr>\n",
       "  </tbody>\n",
       "</table>\n",
       "</div>"
      ],
      "text/plain": [
       "       engine_displacement   horsepower  vehicle_weight   model_year  \\\n",
       "count          9704.000000  8996.000000     9704.000000  9704.000000   \n",
       "mean            199.708368   149.657292     3001.280993  2011.484027   \n",
       "std              49.455319    29.879555      497.894860     6.659808   \n",
       "min              10.000000    37.000000      952.681761  2000.000000   \n",
       "25%             170.000000   130.000000     2666.248985  2006.000000   \n",
       "50%             200.000000   149.000000     2993.226296  2012.000000   \n",
       "75%             230.000000   170.000000     3334.957039  2017.000000   \n",
       "max             380.000000   271.000000     4739.077089  2023.000000   \n",
       "\n",
       "       fuel_efficiency_mpg  \n",
       "count          9704.000000  \n",
       "mean             14.985243  \n",
       "std               2.556468  \n",
       "min               6.200971  \n",
       "25%              13.267459  \n",
       "50%              15.006037  \n",
       "75%              16.707965  \n",
       "max              25.967222  "
      ]
     },
     "execution_count": 27,
     "metadata": {},
     "output_type": "execute_result"
    }
   ],
   "source": [
    "df.describe()"
   ]
  },
  {
   "cell_type": "markdown",
   "id": "e7265ad4",
   "metadata": {},
   "source": [
    "## Prepare and split the dataset\n",
    "- Shuffle the dataset (the filtered one you created above), use seed `42`.\n",
    "- Split your data in train/val/test sets, with 60%/20%/20% distribution.\n",
    "\n",
    "Use the same code as in the lectures"
   ]
  },
  {
   "cell_type": "code",
   "execution_count": 29,
   "id": "52848901",
   "metadata": {},
   "outputs": [
    {
     "data": {
      "text/plain": [
       "9704"
      ]
     },
     "execution_count": 29,
     "metadata": {},
     "output_type": "execute_result"
    }
   ],
   "source": [
    "np.random.seed(42)\n",
    "\n",
    "n = len(df)\n",
    "n"
   ]
  },
  {
   "cell_type": "code",
   "execution_count": 31,
   "id": "8dee5397",
   "metadata": {},
   "outputs": [
    {
     "data": {
      "text/plain": [
       "(1940, 1940, 5824)"
      ]
     },
     "execution_count": 31,
     "metadata": {},
     "output_type": "execute_result"
    }
   ],
   "source": [
    "n_val = int(0.2 * n)\n",
    "n_test = int(0.2 * n)\n",
    "n_train = n - n_val - n_test\n",
    "\n",
    "n_val, n_test, n_train"
   ]
  },
  {
   "cell_type": "code",
   "execution_count": 32,
   "id": "423cd1af",
   "metadata": {},
   "outputs": [],
   "source": [
    "idx = np.arange(n)\n",
    "np.random.shuffle(idx)"
   ]
  },
  {
   "cell_type": "code",
   "execution_count": 33,
   "id": "c2611a9e",
   "metadata": {},
   "outputs": [
    {
     "data": {
      "text/html": [
       "<div>\n",
       "<style scoped>\n",
       "    .dataframe tbody tr th:only-of-type {\n",
       "        vertical-align: middle;\n",
       "    }\n",
       "\n",
       "    .dataframe tbody tr th {\n",
       "        vertical-align: top;\n",
       "    }\n",
       "\n",
       "    .dataframe thead th {\n",
       "        text-align: right;\n",
       "    }\n",
       "</style>\n",
       "<table border=\"1\" class=\"dataframe\">\n",
       "  <thead>\n",
       "    <tr style=\"text-align: right;\">\n",
       "      <th></th>\n",
       "      <th>engine_displacement</th>\n",
       "      <th>horsepower</th>\n",
       "      <th>vehicle_weight</th>\n",
       "      <th>model_year</th>\n",
       "      <th>fuel_efficiency_mpg</th>\n",
       "    </tr>\n",
       "  </thead>\n",
       "  <tbody>\n",
       "    <tr>\n",
       "      <th>483</th>\n",
       "      <td>220</td>\n",
       "      <td>144.0</td>\n",
       "      <td>2535.887591</td>\n",
       "      <td>2009</td>\n",
       "      <td>16.642943</td>\n",
       "    </tr>\n",
       "    <tr>\n",
       "      <th>7506</th>\n",
       "      <td>160</td>\n",
       "      <td>141.0</td>\n",
       "      <td>2741.170484</td>\n",
       "      <td>2019</td>\n",
       "      <td>16.298377</td>\n",
       "    </tr>\n",
       "    <tr>\n",
       "      <th>8795</th>\n",
       "      <td>230</td>\n",
       "      <td>155.0</td>\n",
       "      <td>2471.880237</td>\n",
       "      <td>2017</td>\n",
       "      <td>18.591822</td>\n",
       "    </tr>\n",
       "    <tr>\n",
       "      <th>1688</th>\n",
       "      <td>150</td>\n",
       "      <td>206.0</td>\n",
       "      <td>3748.164469</td>\n",
       "      <td>2015</td>\n",
       "      <td>11.818843</td>\n",
       "    </tr>\n",
       "    <tr>\n",
       "      <th>6217</th>\n",
       "      <td>300</td>\n",
       "      <td>111.0</td>\n",
       "      <td>2135.716359</td>\n",
       "      <td>2006</td>\n",
       "      <td>19.402209</td>\n",
       "    </tr>\n",
       "    <tr>\n",
       "      <th>...</th>\n",
       "      <td>...</td>\n",
       "      <td>...</td>\n",
       "      <td>...</td>\n",
       "      <td>...</td>\n",
       "      <td>...</td>\n",
       "    </tr>\n",
       "    <tr>\n",
       "      <th>5734</th>\n",
       "      <td>210</td>\n",
       "      <td>163.0</td>\n",
       "      <td>1972.029124</td>\n",
       "      <td>2011</td>\n",
       "      <td>19.961672</td>\n",
       "    </tr>\n",
       "    <tr>\n",
       "      <th>5191</th>\n",
       "      <td>160</td>\n",
       "      <td>126.0</td>\n",
       "      <td>3011.588014</td>\n",
       "      <td>2009</td>\n",
       "      <td>14.651056</td>\n",
       "    </tr>\n",
       "    <tr>\n",
       "      <th>5390</th>\n",
       "      <td>290</td>\n",
       "      <td>187.0</td>\n",
       "      <td>2440.508039</td>\n",
       "      <td>2019</td>\n",
       "      <td>18.404435</td>\n",
       "    </tr>\n",
       "    <tr>\n",
       "      <th>860</th>\n",
       "      <td>260</td>\n",
       "      <td>129.0</td>\n",
       "      <td>1865.404480</td>\n",
       "      <td>2019</td>\n",
       "      <td>20.502460</td>\n",
       "    </tr>\n",
       "    <tr>\n",
       "      <th>7270</th>\n",
       "      <td>270</td>\n",
       "      <td>147.0</td>\n",
       "      <td>2611.939500</td>\n",
       "      <td>2017</td>\n",
       "      <td>16.816241</td>\n",
       "    </tr>\n",
       "  </tbody>\n",
       "</table>\n",
       "<p>9704 rows × 5 columns</p>\n",
       "</div>"
      ],
      "text/plain": [
       "      engine_displacement  horsepower  vehicle_weight  model_year  \\\n",
       "483                   220       144.0     2535.887591        2009   \n",
       "7506                  160       141.0     2741.170484        2019   \n",
       "8795                  230       155.0     2471.880237        2017   \n",
       "1688                  150       206.0     3748.164469        2015   \n",
       "6217                  300       111.0     2135.716359        2006   \n",
       "...                   ...         ...             ...         ...   \n",
       "5734                  210       163.0     1972.029124        2011   \n",
       "5191                  160       126.0     3011.588014        2009   \n",
       "5390                  290       187.0     2440.508039        2019   \n",
       "860                   260       129.0     1865.404480        2019   \n",
       "7270                  270       147.0     2611.939500        2017   \n",
       "\n",
       "      fuel_efficiency_mpg  \n",
       "483             16.642943  \n",
       "7506            16.298377  \n",
       "8795            18.591822  \n",
       "1688            11.818843  \n",
       "6217            19.402209  \n",
       "...                   ...  \n",
       "5734            19.961672  \n",
       "5191            14.651056  \n",
       "5390            18.404435  \n",
       "860             20.502460  \n",
       "7270            16.816241  \n",
       "\n",
       "[9704 rows x 5 columns]"
      ]
     },
     "execution_count": 33,
     "metadata": {},
     "output_type": "execute_result"
    }
   ],
   "source": [
    "df_shuffled = df.iloc[idx]\n",
    "\n",
    "df_shuffled"
   ]
  },
  {
   "cell_type": "code",
   "execution_count": 34,
   "id": "1dc03991",
   "metadata": {},
   "outputs": [],
   "source": [
    "df_train = df_shuffled.iloc[:n_train].copy()\n",
    "df_val = df_shuffled.iloc[n_train: n_train+n_val].copy()\n",
    "df_test = df_shuffled.iloc[n_train+n_val:].copy()"
   ]
  },
  {
   "cell_type": "code",
   "execution_count": 35,
   "id": "db64a5c9",
   "metadata": {},
   "outputs": [
    {
     "data": {
      "text/plain": [
       "(5824, 1940, 1940)"
      ]
     },
     "execution_count": 35,
     "metadata": {},
     "output_type": "execute_result"
    }
   ],
   "source": [
    "len(df_train), len(df_val), len(df_test)"
   ]
  },
  {
   "cell_type": "code",
   "execution_count": 71,
   "id": "177620b5",
   "metadata": {},
   "outputs": [],
   "source": [
    "y_train = df_train.fuel_efficiency_mpg.values\n",
    "y_val = df_val.fuel_efficiency_mpg.values\n",
    "y_test = df_test.fuel_efficiency_mpg.values"
   ]
  },
  {
   "cell_type": "code",
   "execution_count": 92,
   "id": "19ee55c0",
   "metadata": {},
   "outputs": [],
   "source": [
    "del df_train['fuel_efficiency_mpg']\n",
    "del df_val['fuel_efficiency_mpg']\n",
    "del df_test['fuel_efficiency_mpg']"
   ]
  },
  {
   "cell_type": "code",
   "execution_count": 94,
   "id": "da31a8c1",
   "metadata": {},
   "outputs": [
    {
     "data": {
      "text/html": [
       "<div>\n",
       "<style scoped>\n",
       "    .dataframe tbody tr th:only-of-type {\n",
       "        vertical-align: middle;\n",
       "    }\n",
       "\n",
       "    .dataframe tbody tr th {\n",
       "        vertical-align: top;\n",
       "    }\n",
       "\n",
       "    .dataframe thead th {\n",
       "        text-align: right;\n",
       "    }\n",
       "</style>\n",
       "<table border=\"1\" class=\"dataframe\">\n",
       "  <thead>\n",
       "    <tr style=\"text-align: right;\">\n",
       "      <th></th>\n",
       "      <th>engine_displacement</th>\n",
       "      <th>horsepower</th>\n",
       "      <th>vehicle_weight</th>\n",
       "      <th>model_year</th>\n",
       "    </tr>\n",
       "  </thead>\n",
       "  <tbody>\n",
       "    <tr>\n",
       "      <th>483</th>\n",
       "      <td>220</td>\n",
       "      <td>144.0</td>\n",
       "      <td>2535.887591</td>\n",
       "      <td>2009</td>\n",
       "    </tr>\n",
       "    <tr>\n",
       "      <th>7506</th>\n",
       "      <td>160</td>\n",
       "      <td>141.0</td>\n",
       "      <td>2741.170484</td>\n",
       "      <td>2019</td>\n",
       "    </tr>\n",
       "    <tr>\n",
       "      <th>8795</th>\n",
       "      <td>230</td>\n",
       "      <td>155.0</td>\n",
       "      <td>2471.880237</td>\n",
       "      <td>2017</td>\n",
       "    </tr>\n",
       "    <tr>\n",
       "      <th>1688</th>\n",
       "      <td>150</td>\n",
       "      <td>206.0</td>\n",
       "      <td>3748.164469</td>\n",
       "      <td>2015</td>\n",
       "    </tr>\n",
       "    <tr>\n",
       "      <th>6217</th>\n",
       "      <td>300</td>\n",
       "      <td>111.0</td>\n",
       "      <td>2135.716359</td>\n",
       "      <td>2006</td>\n",
       "    </tr>\n",
       "  </tbody>\n",
       "</table>\n",
       "</div>"
      ],
      "text/plain": [
       "      engine_displacement  horsepower  vehicle_weight  model_year\n",
       "483                   220       144.0     2535.887591        2009\n",
       "7506                  160       141.0     2741.170484        2019\n",
       "8795                  230       155.0     2471.880237        2017\n",
       "1688                  150       206.0     3748.164469        2015\n",
       "6217                  300       111.0     2135.716359        2006"
      ]
     },
     "execution_count": 94,
     "metadata": {},
     "output_type": "execute_result"
    }
   ],
   "source": [
    "df_train.head()"
   ]
  },
  {
   "cell_type": "code",
   "execution_count": 100,
   "id": "5fd41de1",
   "metadata": {},
   "outputs": [
    {
     "data": {
      "text/plain": [
       "array([16.64294342, 16.29837715, 18.59182197, ..., 17.59323665,\n",
       "       18.92574819, 17.96528447])"
      ]
     },
     "execution_count": 100,
     "metadata": {},
     "output_type": "execute_result"
    }
   ],
   "source": [
    "y_train"
   ]
  },
  {
   "cell_type": "markdown",
   "id": "0fbdc2f7",
   "metadata": {},
   "source": [
    "## Question 3\n",
    "- We need to deal with missing values for the column from Q1.\n",
    "- We have two options: fill it with 0 or with the mean of this variable.\n",
    "- Try both options. For each, train a linear regression model without regularization using the code from the lessons.\n",
    "- For computing the mean, use the training only!\n",
    "- Use the validation dataset to evaluate the models and compare the RMSE of each option.\n",
    "- Round the RMSE scores to 2 decimal digits using round(score, 2)\n",
    "- Which option gives better RMSE?\n",
    "\n",
    "Options:\n",
    "- With 0\n",
    "- With mean\n",
    "- Both are equally good\n",
    "\n",
    "**Answer: With 0**"
   ]
  },
  {
   "cell_type": "code",
   "execution_count": 101,
   "id": "edb5b5b0",
   "metadata": {},
   "outputs": [],
   "source": [
    "def train_linear_regression(X, y):\n",
    "    ones = np.ones(X.shape[0])\n",
    "    X = np.column_stack([ones, X])\n",
    "\n",
    "    XTX = X.T.dot(X)\n",
    "    XTX_inv = np.linalg.inv(XTX)\n",
    "    w = XTX_inv.dot(X.T).dot(y)\n",
    "    \n",
    "    return w[0], w[1:]"
   ]
  },
  {
   "cell_type": "code",
   "execution_count": 102,
   "id": "12271e0f",
   "metadata": {},
   "outputs": [],
   "source": [
    "def prepare_X_zero(df):\n",
    "    df_num = df\n",
    "    df_num = df_num.fillna(0)\n",
    "    X = df_num.values\n",
    "    return X"
   ]
  },
  {
   "cell_type": "code",
   "execution_count": 111,
   "id": "f370b281",
   "metadata": {},
   "outputs": [],
   "source": [
    "X_train_zero = prepare_X_zero(df_train)\n",
    "w_0, w = train_linear_regression(X_train_zero, y_train)"
   ]
  },
  {
   "cell_type": "code",
   "execution_count": 112,
   "id": "58624ba9",
   "metadata": {},
   "outputs": [],
   "source": [
    "y_pred = w_0 + X_train_zero.dot(w)"
   ]
  },
  {
   "cell_type": "code",
   "execution_count": 113,
   "id": "1f5ad1ba",
   "metadata": {},
   "outputs": [
    {
     "data": {
      "image/png": "[encoded data removed]",
      "text/plain": [
       "<Figure size 600x400 with 1 Axes>"
      ]
     },
     "metadata": {},
     "output_type": "display_data"
    }
   ],
   "source": [
    "plt.figure(figsize=(6, 4))\n",
    "\n",
    "sns.histplot(y_train, label='target')\n",
    "sns.histplot(y_pred, label='prediction')\n",
    "plt.legend()\n",
    "plt.title('Predictions vs actual distribution')\n",
    "\n",
    "plt.show()"
   ]
  },
  {
   "cell_type": "code",
   "execution_count": 114,
   "id": "4495c1e8",
   "metadata": {},
   "outputs": [],
   "source": [
    "def rmse(y, y_pred):\n",
    "    error = y_pred - y\n",
    "    mse = (error ** 2).mean()\n",
    "    return np.sqrt(mse)"
   ]
  },
  {
   "cell_type": "code",
   "execution_count": 115,
   "id": "5e7bb07c",
   "metadata": {},
   "outputs": [
    {
     "data": {
      "text/plain": [
       "0.5202614265099076"
      ]
     },
     "execution_count": 115,
     "metadata": {},
     "output_type": "execute_result"
    }
   ],
   "source": [
    "rmse(y_train, y_pred)"
   ]
  },
  {
   "cell_type": "code",
   "execution_count": 122,
   "id": "156b9b86",
   "metadata": {},
   "outputs": [],
   "source": [
    "X_val_zero = prepare_X_zero(df_val)\n",
    "y_pred = w_0 + X_val_zero.dot(w)"
   ]
  },
  {
   "cell_type": "code",
   "execution_count": 123,
   "id": "25322ad6",
   "metadata": {},
   "outputs": [
    {
     "data": {
      "text/plain": [
       "0.6116860276769278"
      ]
     },
     "execution_count": 123,
     "metadata": {},
     "output_type": "execute_result"
    }
   ],
   "source": [
    "rmse(y_val, y_pred)"
   ]
  },
  {
   "cell_type": "code",
   "execution_count": 116,
   "id": "7d87cd54",
   "metadata": {},
   "outputs": [],
   "source": [
    "def prepare_X_mean(df):\n",
    "    df_num = df\n",
    "    df_num = df_num.fillna(df.mean())\n",
    "    X = df_num.values\n",
    "    return X"
   ]
  },
  {
   "cell_type": "code",
   "execution_count": 117,
   "id": "2a667c05",
   "metadata": {},
   "outputs": [],
   "source": [
    "X_train_mean = prepare_X_mean(df_train)\n",
    "w_0, w = train_linear_regression(X_train_mean, y_train)"
   ]
  },
  {
   "cell_type": "code",
   "execution_count": 118,
   "id": "1f51492b",
   "metadata": {},
   "outputs": [],
   "source": [
    "y_pred_mean = w_0 + X_train_mean.dot(w)"
   ]
  },
  {
   "cell_type": "code",
   "execution_count": 119,
   "id": "55d6c3fc",
   "metadata": {},
   "outputs": [
    {
     "data": {
      "image/png": "[encoded data removed]",
      "text/plain": [
       "<Figure size 600x400 with 1 Axes>"
      ]
     },
     "metadata": {},
     "output_type": "display_data"
    }
   ],
   "source": [
    "plt.figure(figsize=(6, 4))\n",
    "\n",
    "sns.histplot(y_train, label='target')\n",
    "sns.histplot(y_pred, label='prediction')\n",
    "plt.legend()\n",
    "plt.title('Predictions vs actual distribution')\n",
    "\n",
    "plt.show()"
   ]
  },
  {
   "cell_type": "code",
   "execution_count": 120,
   "id": "aca38535",
   "metadata": {},
   "outputs": [
    {
     "data": {
      "text/plain": [
       "0.4624412137959964"
      ]
     },
     "execution_count": 120,
     "metadata": {},
     "output_type": "execute_result"
    }
   ],
   "source": [
    "rmse(y_train, y_pred_mean)"
   ]
  },
  {
   "cell_type": "code",
   "execution_count": 124,
   "id": "f9b44bd2",
   "metadata": {},
   "outputs": [],
   "source": [
    "X_val_mean = prepare_X_mean(df_val)\n",
    "y_pred_mean = w_0 + X_val_mean.dot(w)"
   ]
  },
  {
   "cell_type": "code",
   "execution_count": 125,
   "id": "dce22870",
   "metadata": {},
   "outputs": [
    {
     "data": {
      "text/plain": [
       "0.4636236995033421"
      ]
     },
     "execution_count": 125,
     "metadata": {},
     "output_type": "execute_result"
    }
   ],
   "source": [
    "rmse(y_val, y_pred_mean)"
   ]
  },
  {
   "cell_type": "markdown",
   "id": "82bfff8c",
   "metadata": {},
   "source": [
    "## Question 4\n",
    "- Now let's train a regularized linear regression.\n",
    "- For this question, fill the NAs with 0.\n",
    "- Try different values of `r` from this list: `[0, 0.01, 0.1, 1, 5, 10, 100]`.\n",
    "- Use RMSE to evaluate the model on the validation dataset.\n",
    "- Round the RMSE scores to 2 decimal digits.\n",
    "- Which `r` gives the best RMSE?\n",
    "\n",
    "If multiple options give the same best RMSE, select the smallest `r`.\n",
    "\n",
    "Options:\n",
    "- 0\n",
    "- 0.01\n",
    "- 1\n",
    "- 10\n",
    "- 100\n",
    "\n",
    "**Answer: 0**"
   ]
  },
  {
   "cell_type": "code",
   "execution_count": 147,
   "id": "674d36b0",
   "metadata": {},
   "outputs": [],
   "source": [
    "def train_linear_regression_reg(X, y, r):\n",
    "    ones = np.ones(X.shape[0])\n",
    "    X = np.column_stack([ones, X])\n",
    "\n",
    "    XTX = X.T.dot(X)\n",
    "    reg = r * np.eye(XTX.shape[0])\n",
    "    XTX = XTX + reg\n",
    "\n",
    "    XTX_inv = np.linalg.inv(XTX)\n",
    "    w = XTX_inv.dot(X.T).dot(y)\n",
    "    \n",
    "    return w[0], w[1:]"
   ]
  },
  {
   "cell_type": "code",
   "execution_count": 148,
   "id": "f7c51ed0",
   "metadata": {},
   "outputs": [],
   "source": [
    "X_train = prepare_X_zero(df_train)"
   ]
  },
  {
   "cell_type": "code",
   "execution_count": 149,
   "id": "63a456cd",
   "metadata": {},
   "outputs": [
    {
     "name": "stdout",
     "output_type": "stream",
     "text": [
      "    0, 28.83, 0.00, -0.01\n",
      " 0.01, 24.93, 0.00, -0.01\n",
      "  0.1, 11.24, 0.00, -0.01\n",
      "    1, 1.73, 0.00, -0.01\n",
      "    5, 0.36, 0.00, -0.01\n",
      "   10, 0.18, 0.00, -0.01\n",
      "  100, 0.02, 0.00, -0.01\n"
     ]
    }
   ],
   "source": [
    "for r in [0, 0.01, 0.1, 1, 5, 10, 100]:\n",
    "    w_0, w = train_linear_regression_reg(X_train, y_train, r=r)\n",
    "    print('%5s, %.2f, %.2f, %.2f' % (r, w_0, w[1], w[2]))"
   ]
  },
  {
   "cell_type": "code",
   "execution_count": 150,
   "id": "0c31193d",
   "metadata": {},
   "outputs": [
    {
     "name": "stdout",
     "output_type": "stream",
     "text": [
      "     0 0.52\n",
      "  0.01 0.52\n",
      "   0.1 0.52\n",
      "     1 0.52\n",
      "     5 0.52\n",
      "    10 0.52\n",
      "   100 0.52\n"
     ]
    }
   ],
   "source": [
    "X_train = prepare_X_zero(df_train)\n",
    "X_val = prepare_X_zero(df_val)\n",
    "\n",
    "for r in [0, 0.01, 0.1, 1, 5, 10, 100]:\n",
    "    w_0, w = train_linear_regression_reg(X_train, y_train, r=r)\n",
    "    y_pred = w_0 + X_val.dot(w)\n",
    "    print('%6s' %r, round(rmse(y_val, y_pred), 2))"
   ]
  },
  {
   "cell_type": "markdown",
   "id": "838cd067",
   "metadata": {},
   "source": [
    "## Question 5\n",
    "- We used seed 42 for splitting the data. Let's find out how selecting the seed influences our score.\n",
    "- Try different seed values: `[0, 1, 2, 3, 4, 5, 6, 7, 8, 9]`.\n",
    "- For each seed, do the train/validation/test split with 60%/20%/20% distribution.\n",
    "- Fill the missing values with 0 and train a model without regularization.\n",
    "- For each seed, evaluate the model on the validation dataset and collect the RMSE scores.\n",
    "- What's the standard deviation of all the scores? To compute the standard deviation, use `np.std`.\n",
    "- Round the result to 3 decimal digits (`round(std, 3)`)\n",
    "\n",
    "What's the value of std?\n",
    "- 0.001\n",
    "- 0.006\n",
    "- 0.060\n",
    "- 0.600\n",
    "\n",
    "**Answer: 0.006**"
   ]
  },
  {
   "cell_type": "markdown",
   "id": "7c826c16",
   "metadata": {},
   "source": [
    "Note: Standard deviation shows how different the values are. If it's low, then all values are approximately the same. If it's high, the values are different. If standard deviation of scores is low, then our model is stable."
   ]
  },
  {
   "cell_type": "code",
   "execution_count": 177,
   "id": "64a45640",
   "metadata": {},
   "outputs": [],
   "source": [
    "rmse_list = []"
   ]
  },
  {
   "cell_type": "code",
   "execution_count": 188,
   "id": "72bfcb33",
   "metadata": {},
   "outputs": [],
   "source": [
    "def prep_random(s):\n",
    "    for i in s:\n",
    "        np.random.seed(i)\n",
    "        print(i)\n",
    "\n",
    "        idx = np.arange(n)\n",
    "        np.random.shuffle(idx)\n",
    "\n",
    "        df_shuffled = df.iloc[idx]\n",
    "\n",
    "        df_train = df_shuffled.iloc[:n_train].copy()\n",
    "        df_val = df_shuffled.iloc[n_train: n_train+n_val].copy()\n",
    "        df_test = df_shuffled.iloc[n_train+n_val:].copy()\n",
    "\n",
    "        y_train = df_train.fuel_efficiency_mpg.values\n",
    "        y_val = df_val.fuel_efficiency_mpg.values\n",
    "        y_test = df_test.fuel_efficiency_mpg.values\n",
    "\n",
    "        del df_train['fuel_efficiency_mpg']\n",
    "        del df_val['fuel_efficiency_mpg']\n",
    "        del df_test['fuel_efficiency_mpg']\n",
    "\n",
    "        print(df_train.head())\n",
    "        \n",
    "        X_train = prepare_X_zero(df_train)\n",
    "        w_0, w = train_linear_regression(X_train, y_train)\n",
    "\n",
    "        X_val = prepare_X_zero(df_val)\n",
    "        y_pred = w_0 + X_val.dot(w)\n",
    "\n",
    "        print(rmse(y_val, y_pred))\n",
    "        \n",
    "        rmse_list.append(rmse(y_val, y_pred))\n",
    "        print(rmse_list)\n",
    "        \n",
    "        print()"
   ]
  },
  {
   "cell_type": "code",
   "execution_count": 189,
   "id": "5325c032",
   "metadata": {},
   "outputs": [
    {
     "name": "stdout",
     "output_type": "stream",
     "text": [
      "0\n",
      "      engine_displacement  horsepower  vehicle_weight  model_year\n",
      "6146                  240       139.0     2542.449701        2004\n",
      "3410                  160       138.0     3115.053444        2012\n",
      "272                   130       136.0     3333.733863        2013\n",
      "7044                  230       103.0     2825.409654        2005\n",
      "6730                  270       204.0     3642.313834        2015\n",
      "0.5206531296316911\n",
      "[0.5206531296316911, 0.5213388912859871, 0.5228069974798277, 0.5159516741269471, 0.5109129460114398, 0.5283406460161202, 0.5313910658166271, 0.5090670387373443, 0.514739912942597, 0.5131865908322948, 0.521, 0.521, 0.523, 0.516, 0.511, 0.528, 0.531, 0.509, 0.515, 0.513, 0.5206531296316911]\n",
      "\n",
      "1\n",
      "      engine_displacement  horsepower  vehicle_weight  model_year\n",
      "2754                  170       170.0     2770.744260        2004\n",
      "3802                  230       135.0     2546.670530        2001\n",
      "1432                  160       179.0     3845.204498        2021\n",
      "9088                  230         NaN     3006.216277        2017\n",
      "9280                  240       156.0     2436.633616        2015\n",
      "0.5213388912859871\n",
      "[0.5206531296316911, 0.5213388912859871, 0.5228069974798277, 0.5159516741269471, 0.5109129460114398, 0.5283406460161202, 0.5313910658166271, 0.5090670387373443, 0.514739912942597, 0.5131865908322948, 0.521, 0.521, 0.523, 0.516, 0.511, 0.528, 0.531, 0.509, 0.515, 0.513, 0.5206531296316911, 0.5213388912859871]\n",
      "\n",
      "2\n",
      "      engine_displacement  horsepower  vehicle_weight  model_year\n",
      "246                   170       164.0     2990.040917        2019\n",
      "8125                  170         NaN     2729.623741        2012\n",
      "1927                  200       142.0     3126.513375        2019\n",
      "8235                  200       148.0     3136.477901        2003\n",
      "424                   230       141.0     3384.681613        2006\n",
      "0.5228069974798277\n",
      "[0.5206531296316911, 0.5213388912859871, 0.5228069974798277, 0.5159516741269471, 0.5109129460114398, 0.5283406460161202, 0.5313910658166271, 0.5090670387373443, 0.514739912942597, 0.5131865908322948, 0.521, 0.521, 0.523, 0.516, 0.511, 0.528, 0.531, 0.509, 0.515, 0.513, 0.5206531296316911, 0.5213388912859871, 0.5228069974798277]\n",
      "\n",
      "3\n",
      "      engine_displacement  horsepower  vehicle_weight  model_year\n",
      "433                   200         NaN     3320.666871        2020\n",
      "3584                  230       107.0     2595.644876        2007\n",
      "5104                  240       131.0     2571.557241        2013\n",
      "2431                  220       162.0     3565.633886        2007\n",
      "1048                  230       181.0     2995.775294        2019\n",
      "0.5159516741269471\n",
      "[0.5206531296316911, 0.5213388912859871, 0.5228069974798277, 0.5159516741269471, 0.5109129460114398, 0.5283406460161202, 0.5313910658166271, 0.5090670387373443, 0.514739912942597, 0.5131865908322948, 0.521, 0.521, 0.523, 0.516, 0.511, 0.528, 0.531, 0.509, 0.515, 0.513, 0.5206531296316911, 0.5213388912859871, 0.5228069974798277, 0.5159516741269471]\n",
      "\n",
      "4\n",
      "      engine_displacement  horsepower  vehicle_weight  model_year\n",
      "2159                  250       162.0     3548.163581        2004\n",
      "8043                  270       145.0     2821.631445        2018\n",
      "603                   220       110.0     2923.509743        2003\n",
      "4028                  210       135.0     2401.953454        2005\n",
      "6785                   40       196.0     2310.681425        2003\n",
      "0.5109129460114398\n",
      "[0.5206531296316911, 0.5213388912859871, 0.5228069974798277, 0.5159516741269471, 0.5109129460114398, 0.5283406460161202, 0.5313910658166271, 0.5090670387373443, 0.514739912942597, 0.5131865908322948, 0.521, 0.521, 0.523, 0.516, 0.511, 0.528, 0.531, 0.509, 0.515, 0.513, 0.5206531296316911, 0.5213388912859871, 0.5228069974798277, 0.5159516741269471, 0.5109129460114398]\n",
      "\n",
      "5\n",
      "      engine_displacement  horsepower  vehicle_weight  model_year\n",
      "5607                  220       188.0     3111.313304        2009\n",
      "5858                  210       111.0     3707.429173        2006\n",
      "7722                  210       155.0     2316.439856        2019\n",
      "7623                  200         NaN     2600.845517        2000\n",
      "3596                  220       120.0     2934.365663        2012\n",
      "0.5283406460161202\n",
      "[0.5206531296316911, 0.5213388912859871, 0.5228069974798277, 0.5159516741269471, 0.5109129460114398, 0.5283406460161202, 0.5313910658166271, 0.5090670387373443, 0.514739912942597, 0.5131865908322948, 0.521, 0.521, 0.523, 0.516, 0.511, 0.528, 0.531, 0.509, 0.515, 0.513, 0.5206531296316911, 0.5213388912859871, 0.5228069974798277, 0.5159516741269471, 0.5109129460114398, 0.5283406460161202]\n",
      "\n",
      "6\n",
      "      engine_displacement  horsepower  vehicle_weight  model_year\n",
      "6898                   90       160.0     3082.673643        2018\n",
      "56                    250       199.0     3475.339734        2001\n",
      "8384                  220       145.0     2872.449368        2014\n",
      "7620                  230       115.0     3033.946155        2013\n",
      "5381                  170       157.0     2628.541916        2019\n",
      "0.5313910658166271\n",
      "[0.5206531296316911, 0.5213388912859871, 0.5228069974798277, 0.5159516741269471, 0.5109129460114398, 0.5283406460161202, 0.5313910658166271, 0.5090670387373443, 0.514739912942597, 0.5131865908322948, 0.521, 0.521, 0.523, 0.516, 0.511, 0.528, 0.531, 0.509, 0.515, 0.513, 0.5206531296316911, 0.5213388912859871, 0.5228069974798277, 0.5159516741269471, 0.5109129460114398, 0.5283406460161202, 0.5313910658166271]\n",
      "\n",
      "7\n",
      "      engine_displacement  horsepower  vehicle_weight  model_year\n",
      "9588                  200       162.0     2886.293400        2007\n",
      "2811                  110       157.0     3194.369259        2001\n",
      "9057                  310       163.0     2627.426405        2005\n",
      "3529                  180       131.0     4172.983577        2011\n",
      "7859                  100       129.0     2939.931160        2019\n",
      "0.5090670387373443\n",
      "[0.5206531296316911, 0.5213388912859871, 0.5228069974798277, 0.5159516741269471, 0.5109129460114398, 0.5283406460161202, 0.5313910658166271, 0.5090670387373443, 0.514739912942597, 0.5131865908322948, 0.521, 0.521, 0.523, 0.516, 0.511, 0.528, 0.531, 0.509, 0.515, 0.513, 0.5206531296316911, 0.5213388912859871, 0.5228069974798277, 0.5159516741269471, 0.5109129460114398, 0.5283406460161202, 0.5313910658166271, 0.5090670387373443]\n",
      "\n",
      "8\n",
      "      engine_displacement  horsepower  vehicle_weight  model_year\n",
      "6918                  230       138.0     2630.466042        2017\n",
      "7384                  130       111.0     3483.166666        2023\n",
      "1908                  180       117.0     3477.545137        2004\n",
      "5148                  210       155.0     2589.871760        2013\n",
      "867                   210         NaN     2225.567068        2004\n",
      "0.514739912942597\n",
      "[0.5206531296316911, 0.5213388912859871, 0.5228069974798277, 0.5159516741269471, 0.5109129460114398, 0.5283406460161202, 0.5313910658166271, 0.5090670387373443, 0.514739912942597, 0.5131865908322948, 0.521, 0.521, 0.523, 0.516, 0.511, 0.528, 0.531, 0.509, 0.515, 0.513, 0.5206531296316911, 0.5213388912859871, 0.5228069974798277, 0.5159516741269471, 0.5109129460114398, 0.5283406460161202, 0.5313910658166271, 0.5090670387373443, 0.514739912942597]\n",
      "\n",
      "9\n",
      "      engine_displacement  horsepower  vehicle_weight  model_year\n",
      "9066                  240       136.0     4050.512290        2006\n",
      "3073                  190       141.0     3195.866942        2017\n",
      "2476                  200       184.0     3006.164370        2017\n",
      "658                   200         NaN     2947.143980        2022\n",
      "954                   250       132.0     3114.371978        2001\n",
      "0.5131865908322948\n",
      "[0.5206531296316911, 0.5213388912859871, 0.5228069974798277, 0.5159516741269471, 0.5109129460114398, 0.5283406460161202, 0.5313910658166271, 0.5090670387373443, 0.514739912942597, 0.5131865908322948, 0.521, 0.521, 0.523, 0.516, 0.511, 0.528, 0.531, 0.509, 0.515, 0.513, 0.5206531296316911, 0.5213388912859871, 0.5228069974798277, 0.5159516741269471, 0.5109129460114398, 0.5283406460161202, 0.5313910658166271, 0.5090670387373443, 0.514739912942597, 0.5131865908322948]\n",
      "\n"
     ]
    }
   ],
   "source": [
    "prep_random([0, 1, 2, 3, 4, 5, 6, 7, 8, 9])"
   ]
  },
  {
   "cell_type": "code",
   "execution_count": 190,
   "id": "594c224c",
   "metadata": {},
   "outputs": [
    {
     "data": {
      "text/plain": [
       "0.006953793471791619"
      ]
     },
     "execution_count": 190,
     "metadata": {},
     "output_type": "execute_result"
    }
   ],
   "source": [
    "np.std(rmse_list)"
   ]
  },
  {
   "cell_type": "code",
   "execution_count": 191,
   "id": "3d5c0e0d",
   "metadata": {},
   "outputs": [
    {
     "data": {
      "text/plain": [
       "0.007"
      ]
     },
     "execution_count": 191,
     "metadata": {},
     "output_type": "execute_result"
    }
   ],
   "source": [
    "round(np.std(rmse_list), 3)"
   ]
  },
  {
   "cell_type": "markdown",
   "id": "3efcf994",
   "metadata": {},
   "source": [
    "## Question 6\n",
    "- Split the dataset like previously, use seed 9.\n",
    "- Combine train and validation datasets.\n",
    "- Fill the missing values with 0 and train a model with `r=0.001`.\n",
    "- What's the RMSE on the test dataset?\n",
    "\n",
    "Options:\n",
    "- 0.15\n",
    "- 0.515\n",
    "- 5.15\n",
    "- 51.5\n",
    "\n",
    "**Answer: 0.515*"
   ]
  },
  {
   "cell_type": "code",
   "execution_count": 193,
   "id": "50fbc535",
   "metadata": {},
   "outputs": [
    {
     "data": {
      "text/html": [
       "<div>\n",
       "<style scoped>\n",
       "    .dataframe tbody tr th:only-of-type {\n",
       "        vertical-align: middle;\n",
       "    }\n",
       "\n",
       "    .dataframe tbody tr th {\n",
       "        vertical-align: top;\n",
       "    }\n",
       "\n",
       "    .dataframe thead th {\n",
       "        text-align: right;\n",
       "    }\n",
       "</style>\n",
       "<table border=\"1\" class=\"dataframe\">\n",
       "  <thead>\n",
       "    <tr style=\"text-align: right;\">\n",
       "      <th></th>\n",
       "      <th>engine_displacement</th>\n",
       "      <th>horsepower</th>\n",
       "      <th>vehicle_weight</th>\n",
       "      <th>model_year</th>\n",
       "    </tr>\n",
       "  </thead>\n",
       "  <tbody>\n",
       "    <tr>\n",
       "      <th>9066</th>\n",
       "      <td>240</td>\n",
       "      <td>136.0</td>\n",
       "      <td>4050.512290</td>\n",
       "      <td>2006</td>\n",
       "    </tr>\n",
       "    <tr>\n",
       "      <th>3073</th>\n",
       "      <td>190</td>\n",
       "      <td>141.0</td>\n",
       "      <td>3195.866942</td>\n",
       "      <td>2017</td>\n",
       "    </tr>\n",
       "    <tr>\n",
       "      <th>2476</th>\n",
       "      <td>200</td>\n",
       "      <td>184.0</td>\n",
       "      <td>3006.164370</td>\n",
       "      <td>2017</td>\n",
       "    </tr>\n",
       "    <tr>\n",
       "      <th>658</th>\n",
       "      <td>200</td>\n",
       "      <td>NaN</td>\n",
       "      <td>2947.143980</td>\n",
       "      <td>2022</td>\n",
       "    </tr>\n",
       "    <tr>\n",
       "      <th>954</th>\n",
       "      <td>250</td>\n",
       "      <td>132.0</td>\n",
       "      <td>3114.371978</td>\n",
       "      <td>2001</td>\n",
       "    </tr>\n",
       "  </tbody>\n",
       "</table>\n",
       "</div>"
      ],
      "text/plain": [
       "      engine_displacement  horsepower  vehicle_weight  model_year\n",
       "9066                  240       136.0     4050.512290        2006\n",
       "3073                  190       141.0     3195.866942        2017\n",
       "2476                  200       184.0     3006.164370        2017\n",
       "658                   200         NaN     2947.143980        2022\n",
       "954                   250       132.0     3114.371978        2001"
      ]
     },
     "execution_count": 193,
     "metadata": {},
     "output_type": "execute_result"
    }
   ],
   "source": [
    "np.random.seed(9)\n",
    "idx = np.arange(n)\n",
    "np.random.shuffle(idx)\n",
    "\n",
    "df_shuffled = df.iloc[idx]\n",
    "\n",
    "df_train = df_shuffled.iloc[:n_train].copy()\n",
    "df_val = df_shuffled.iloc[n_train: n_train+n_val].copy()\n",
    "df_test = df_shuffled.iloc[n_train+n_val:].copy()\n",
    "\n",
    "y_train = df_train.fuel_efficiency_mpg.values\n",
    "y_val = df_val.fuel_efficiency_mpg.values\n",
    "y_test = df_test.fuel_efficiency_mpg.values\n",
    "\n",
    "del df_train['fuel_efficiency_mpg']\n",
    "del df_val['fuel_efficiency_mpg']\n",
    "del df_test['fuel_efficiency_mpg']\n",
    "\n",
    "df_train.head()"
   ]
  },
  {
   "cell_type": "code",
   "execution_count": 195,
   "id": "55ab74f7",
   "metadata": {},
   "outputs": [],
   "source": [
    "df_combined = pd.concat([df_train, df_val])"
   ]
  },
  {
   "cell_type": "code",
   "execution_count": 196,
   "id": "dc85b245",
   "metadata": {},
   "outputs": [],
   "source": [
    "df_combined = df_combined.fillna(0)"
   ]
  },
  {
   "cell_type": "code",
   "execution_count": 201,
   "id": "98db1577",
   "metadata": {},
   "outputs": [
    {
     "data": {
      "text/plain": [
       "0       10.304700\n",
       "1       13.479434\n",
       "2       16.190653\n",
       "3       15.446503\n",
       "4       14.472172\n",
       "          ...    \n",
       "5819    14.769735\n",
       "5820    10.363254\n",
       "5821    10.592435\n",
       "5822    17.119261\n",
       "5823    18.114504\n",
       "Length: 5824, dtype: float64"
      ]
     },
     "execution_count": 201,
     "metadata": {},
     "output_type": "execute_result"
    }
   ],
   "source": [
    "pd.Series(y_train)"
   ]
  },
  {
   "cell_type": "code",
   "execution_count": 202,
   "id": "39a22699",
   "metadata": {},
   "outputs": [],
   "source": [
    "y_combined = pd.concat([pd.Series(y_train), pd.Series(y_val)])"
   ]
  },
  {
   "cell_type": "code",
   "execution_count": 205,
   "id": "b0a4aa50",
   "metadata": {},
   "outputs": [
    {
     "name": "stdout",
     "output_type": "stream",
     "text": [
      "0.5156261299202296\n"
     ]
    }
   ],
   "source": [
    "X_train = prepare_X_zero(df_combined)\n",
    "X_test = prepare_X_zero(df_test)\n",
    "\n",
    "w_0, w = train_linear_regression_reg(X_train, y_combined, r=0.001)\n",
    "y_pred = w_0 + X_test.dot(w)\n",
    "print(rmse(y_test, y_pred))"
   ]
  },
  {
   "cell_type": "code",
   "execution_count": null,
   "id": "56114f5e",
   "metadata": {},
   "outputs": [],
   "source": []
  }
 ],
 "metadata": {
  "kernelspec": {
   "display_name": "Python (ml_zoomcamp)",
   "language": "python",
   "name": "ml_zoomcamp"
  },
  "language_info": {
   "codemirror_mode": {
    "name": "ipython",
    "version": 3
   },
   "file_extension": ".py",
   "mimetype": "text/x-python",
   "name": "python",
   "nbconvert_exporter": "python",
   "pygments_lexer": "ipython3",
   "version": "3.10.18"
  }
 },
 "nbformat": 4,
 "nbformat_minor": 5
}
